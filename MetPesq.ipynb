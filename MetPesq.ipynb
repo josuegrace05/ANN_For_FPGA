{
  "nbformat": 4,
  "nbformat_minor": 0,
  "metadata": {
    "colab": {
      "name": "MetPesq.ipynb",
      "version": "0.3.2",
      "provenance": [],
      "include_colab_link": true
    },
    "kernelspec": {
      "name": "python3",
      "display_name": "Python 3"
    }
  },
  "cells": [
    {
      "cell_type": "markdown",
      "metadata": {
        "id": "view-in-github",
        "colab_type": "text"
      },
      "source": [
        "<a href=\"https://colab.research.google.com/github/josuegrace05/ANN_For_FPGA/blob/master/MetPesq.ipynb\" target=\"_parent\"><img src=\"https://colab.research.google.com/assets/colab-badge.svg\" alt=\"Open In Colab\"/></a>"
      ]
    },
    {
      "metadata": {
        "id": "kkwX0C-erpmu",
        "colab_type": "code",
        "colab": {}
      },
      "cell_type": "code",
      "source": [
        "import pandas as pd\n",
        "import numpy as np\n",
        "import matplotlib.pyplot as plt\n",
        "%matplotlib inline\n",
        "import seaborn as sns"
      ],
      "execution_count": 0,
      "outputs": []
    },
    {
      "metadata": {
        "id": "2kirNH_RHaWe",
        "colab_type": "code",
        "colab": {}
      },
      "cell_type": "code",
      "source": [
        "#Nome: Josué Grâce Kabongo Kalala\n",
        "#NUSP: 9770382"
      ],
      "execution_count": 0,
      "outputs": []
    },
    {
      "metadata": {
        "id": "65e9-prhthFi",
        "colab_type": "code",
        "colab": {}
      },
      "cell_type": "code",
      "source": [
        "#Questão 1"
      ],
      "execution_count": 0,
      "outputs": []
    },
    {
      "metadata": {
        "id": "6DynH66pGNPN",
        "colab_type": "code",
        "colab": {}
      },
      "cell_type": "code",
      "source": [
        "#Carregando o data set\n",
        "df = pd.read_csv(\"Dataset_spine.csv\")"
      ],
      "execution_count": 0,
      "outputs": []
    },
    {
      "metadata": {
        "id": "FrdkMGd6tB8p",
        "colab_type": "code",
        "colab": {
          "base_uri": "https://localhost:8080/",
          "height": 204
        },
        "outputId": "e62856b8-b3d1-493e-e828-056852213a8f"
      },
      "cell_type": "code",
      "source": [
        "#Visualizando o data set\n",
        "df.head()"
      ],
      "execution_count": 20,
      "outputs": [
        {
          "output_type": "execute_result",
          "data": {
            "text/html": [
              "<div>\n",
              "<style scoped>\n",
              "    .dataframe tbody tr th:only-of-type {\n",
              "        vertical-align: middle;\n",
              "    }\n",
              "\n",
              "    .dataframe tbody tr th {\n",
              "        vertical-align: top;\n",
              "    }\n",
              "\n",
              "    .dataframe thead th {\n",
              "        text-align: right;\n",
              "    }\n",
              "</style>\n",
              "<table border=\"1\" class=\"dataframe\">\n",
              "  <thead>\n",
              "    <tr style=\"text-align: right;\">\n",
              "      <th></th>\n",
              "      <th>Col1</th>\n",
              "      <th>Col2</th>\n",
              "      <th>Col3</th>\n",
              "      <th>Col4</th>\n",
              "      <th>Col5</th>\n",
              "      <th>Col6</th>\n",
              "      <th>Class_att</th>\n",
              "      <th>Unnamed: 13</th>\n",
              "    </tr>\n",
              "  </thead>\n",
              "  <tbody>\n",
              "    <tr>\n",
              "      <th>0</th>\n",
              "      <td>63.027818</td>\n",
              "      <td>22.552586</td>\n",
              "      <td>39.609117</td>\n",
              "      <td>40.475232</td>\n",
              "      <td>98.672917</td>\n",
              "      <td>-0.254400</td>\n",
              "      <td>Abnormal</td>\n",
              "      <td>NaN</td>\n",
              "    </tr>\n",
              "    <tr>\n",
              "      <th>1</th>\n",
              "      <td>39.056951</td>\n",
              "      <td>10.060991</td>\n",
              "      <td>25.015378</td>\n",
              "      <td>28.995960</td>\n",
              "      <td>114.405425</td>\n",
              "      <td>4.564259</td>\n",
              "      <td>Abnormal</td>\n",
              "      <td>NaN</td>\n",
              "    </tr>\n",
              "    <tr>\n",
              "      <th>2</th>\n",
              "      <td>68.832021</td>\n",
              "      <td>22.218482</td>\n",
              "      <td>50.092194</td>\n",
              "      <td>46.613539</td>\n",
              "      <td>105.985135</td>\n",
              "      <td>-3.530317</td>\n",
              "      <td>Abnormal</td>\n",
              "      <td>Prediction is done by using binary classificat...</td>\n",
              "    </tr>\n",
              "    <tr>\n",
              "      <th>3</th>\n",
              "      <td>69.297008</td>\n",
              "      <td>24.652878</td>\n",
              "      <td>44.311238</td>\n",
              "      <td>44.644130</td>\n",
              "      <td>101.868495</td>\n",
              "      <td>11.211523</td>\n",
              "      <td>Abnormal</td>\n",
              "      <td>NaN</td>\n",
              "    </tr>\n",
              "    <tr>\n",
              "      <th>4</th>\n",
              "      <td>49.712859</td>\n",
              "      <td>9.652075</td>\n",
              "      <td>28.317406</td>\n",
              "      <td>40.060784</td>\n",
              "      <td>108.168725</td>\n",
              "      <td>7.918501</td>\n",
              "      <td>Abnormal</td>\n",
              "      <td>NaN</td>\n",
              "    </tr>\n",
              "  </tbody>\n",
              "</table>\n",
              "</div>"
            ],
            "text/plain": [
              "        Col1       Col2       Col3       Col4        Col5       Col6  \\\n",
              "0  63.027818  22.552586  39.609117  40.475232   98.672917  -0.254400   \n",
              "1  39.056951  10.060991  25.015378  28.995960  114.405425   4.564259   \n",
              "2  68.832021  22.218482  50.092194  46.613539  105.985135  -3.530317   \n",
              "3  69.297008  24.652878  44.311238  44.644130  101.868495  11.211523   \n",
              "4  49.712859   9.652075  28.317406  40.060784  108.168725   7.918501   \n",
              "\n",
              "  Class_att                                        Unnamed: 13  \n",
              "0  Abnormal                                                NaN  \n",
              "1  Abnormal                                                NaN  \n",
              "2  Abnormal  Prediction is done by using binary classificat...  \n",
              "3  Abnormal                                                NaN  \n",
              "4  Abnormal                                                NaN  "
            ]
          },
          "metadata": {
            "tags": []
          },
          "execution_count": 20
        }
      ]
    },
    {
      "metadata": {
        "id": "h_hvjV4OuMgK",
        "colab_type": "code",
        "colab": {}
      },
      "cell_type": "code",
      "source": [
        "#Removendo coluna desnecessária\n",
        "df = df.drop([\"Unnamed: 13\"],axis=1)"
      ],
      "execution_count": 0,
      "outputs": []
    },
    {
      "metadata": {
        "id": "UUSkyJgyu2uD",
        "colab_type": "code",
        "colab": {
          "base_uri": "https://localhost:8080/",
          "height": 204
        },
        "outputId": "d4a1df95-caba-4877-cde8-23b295229ce1"
      },
      "cell_type": "code",
      "source": [
        "df.head()"
      ],
      "execution_count": 24,
      "outputs": [
        {
          "output_type": "execute_result",
          "data": {
            "text/html": [
              "<div>\n",
              "<style scoped>\n",
              "    .dataframe tbody tr th:only-of-type {\n",
              "        vertical-align: middle;\n",
              "    }\n",
              "\n",
              "    .dataframe tbody tr th {\n",
              "        vertical-align: top;\n",
              "    }\n",
              "\n",
              "    .dataframe thead th {\n",
              "        text-align: right;\n",
              "    }\n",
              "</style>\n",
              "<table border=\"1\" class=\"dataframe\">\n",
              "  <thead>\n",
              "    <tr style=\"text-align: right;\">\n",
              "      <th></th>\n",
              "      <th>Col1</th>\n",
              "      <th>Col2</th>\n",
              "      <th>Col3</th>\n",
              "      <th>Col4</th>\n",
              "      <th>Col5</th>\n",
              "      <th>Col6</th>\n",
              "      <th>Class_att</th>\n",
              "    </tr>\n",
              "  </thead>\n",
              "  <tbody>\n",
              "    <tr>\n",
              "      <th>0</th>\n",
              "      <td>63.027818</td>\n",
              "      <td>22.552586</td>\n",
              "      <td>39.609117</td>\n",
              "      <td>40.475232</td>\n",
              "      <td>98.672917</td>\n",
              "      <td>-0.254400</td>\n",
              "      <td>Abnormal</td>\n",
              "    </tr>\n",
              "    <tr>\n",
              "      <th>1</th>\n",
              "      <td>39.056951</td>\n",
              "      <td>10.060991</td>\n",
              "      <td>25.015378</td>\n",
              "      <td>28.995960</td>\n",
              "      <td>114.405425</td>\n",
              "      <td>4.564259</td>\n",
              "      <td>Abnormal</td>\n",
              "    </tr>\n",
              "    <tr>\n",
              "      <th>2</th>\n",
              "      <td>68.832021</td>\n",
              "      <td>22.218482</td>\n",
              "      <td>50.092194</td>\n",
              "      <td>46.613539</td>\n",
              "      <td>105.985135</td>\n",
              "      <td>-3.530317</td>\n",
              "      <td>Abnormal</td>\n",
              "    </tr>\n",
              "    <tr>\n",
              "      <th>3</th>\n",
              "      <td>69.297008</td>\n",
              "      <td>24.652878</td>\n",
              "      <td>44.311238</td>\n",
              "      <td>44.644130</td>\n",
              "      <td>101.868495</td>\n",
              "      <td>11.211523</td>\n",
              "      <td>Abnormal</td>\n",
              "    </tr>\n",
              "    <tr>\n",
              "      <th>4</th>\n",
              "      <td>49.712859</td>\n",
              "      <td>9.652075</td>\n",
              "      <td>28.317406</td>\n",
              "      <td>40.060784</td>\n",
              "      <td>108.168725</td>\n",
              "      <td>7.918501</td>\n",
              "      <td>Abnormal</td>\n",
              "    </tr>\n",
              "  </tbody>\n",
              "</table>\n",
              "</div>"
            ],
            "text/plain": [
              "        Col1       Col2       Col3       Col4        Col5       Col6 Class_att\n",
              "0  63.027818  22.552586  39.609117  40.475232   98.672917  -0.254400  Abnormal\n",
              "1  39.056951  10.060991  25.015378  28.995960  114.405425   4.564259  Abnormal\n",
              "2  68.832021  22.218482  50.092194  46.613539  105.985135  -3.530317  Abnormal\n",
              "3  69.297008  24.652878  44.311238  44.644130  101.868495  11.211523  Abnormal\n",
              "4  49.712859   9.652075  28.317406  40.060784  108.168725   7.918501  Abnormal"
            ]
          },
          "metadata": {
            "tags": []
          },
          "execution_count": 24
        }
      ]
    },
    {
      "metadata": {
        "id": "5QyE_DAnxTGO",
        "colab_type": "code",
        "colab": {}
      },
      "cell_type": "code",
      "source": [
        "from sklearn.neural_network import MLPClassifier\n",
        "from sklearn.model_selection import train_test_split\n",
        "from sklearn.metrics import accuracy_score\n",
        "from sklearn.metrics import confusion_matrix\n",
        "from sklearn.metrics import precision_score\n",
        "from sklearn.metrics import recall_score"
      ],
      "execution_count": 0,
      "outputs": []
    },
    {
      "metadata": {
        "id": "sZc14_DYxXRn",
        "colab_type": "code",
        "colab": {}
      },
      "cell_type": "code",
      "source": [
        "#Separando a coluna de classe e o resto do dataset\n",
        "y = df['Class_att']\n",
        "x = df.drop(['Class_att'], axis=1)"
      ],
      "execution_count": 0,
      "outputs": []
    },
    {
      "metadata": {
        "id": "EpvkkBAfxds_",
        "colab_type": "code",
        "colab": {}
      },
      "cell_type": "code",
      "source": [
        "#Separando o conjunto de treinamento e de teste\n",
        "x_train, x_test, y_train, y_test = train_test_split(x,y, test_size= 0.25, random_state=27)"
      ],
      "execution_count": 0,
      "outputs": []
    },
    {
      "metadata": {
        "id": "9yd-mSHzx3MX",
        "colab_type": "code",
        "colab": {
          "base_uri": "https://localhost:8080/",
          "height": 204
        },
        "outputId": "917b7aec-3ed5-432c-e3b1-f4c5db0f15e7"
      },
      "cell_type": "code",
      "source": [
        "x_train.head()"
      ],
      "execution_count": 32,
      "outputs": [
        {
          "output_type": "execute_result",
          "data": {
            "text/html": [
              "<div>\n",
              "<style scoped>\n",
              "    .dataframe tbody tr th:only-of-type {\n",
              "        vertical-align: middle;\n",
              "    }\n",
              "\n",
              "    .dataframe tbody tr th {\n",
              "        vertical-align: top;\n",
              "    }\n",
              "\n",
              "    .dataframe thead th {\n",
              "        text-align: right;\n",
              "    }\n",
              "</style>\n",
              "<table border=\"1\" class=\"dataframe\">\n",
              "  <thead>\n",
              "    <tr style=\"text-align: right;\">\n",
              "      <th></th>\n",
              "      <th>Col1</th>\n",
              "      <th>Col2</th>\n",
              "      <th>Col3</th>\n",
              "      <th>Col4</th>\n",
              "      <th>Col5</th>\n",
              "      <th>Col6</th>\n",
              "    </tr>\n",
              "  </thead>\n",
              "  <tbody>\n",
              "    <tr>\n",
              "      <th>308</th>\n",
              "      <td>45.252792</td>\n",
              "      <td>8.693157</td>\n",
              "      <td>41.583126</td>\n",
              "      <td>36.559635</td>\n",
              "      <td>118.545842</td>\n",
              "      <td>0.214750</td>\n",
              "    </tr>\n",
              "    <tr>\n",
              "      <th>274</th>\n",
              "      <td>43.191915</td>\n",
              "      <td>9.976664</td>\n",
              "      <td>28.938149</td>\n",
              "      <td>33.215251</td>\n",
              "      <td>123.467400</td>\n",
              "      <td>1.741018</td>\n",
              "    </tr>\n",
              "    <tr>\n",
              "      <th>122</th>\n",
              "      <td>80.074914</td>\n",
              "      <td>48.069531</td>\n",
              "      <td>52.403439</td>\n",
              "      <td>32.005383</td>\n",
              "      <td>110.709912</td>\n",
              "      <td>67.727316</td>\n",
              "    </tr>\n",
              "    <tr>\n",
              "      <th>269</th>\n",
              "      <td>37.140150</td>\n",
              "      <td>16.481240</td>\n",
              "      <td>24.000000</td>\n",
              "      <td>20.658910</td>\n",
              "      <td>125.014361</td>\n",
              "      <td>7.366425</td>\n",
              "    </tr>\n",
              "    <tr>\n",
              "      <th>208</th>\n",
              "      <td>87.679087</td>\n",
              "      <td>20.365613</td>\n",
              "      <td>93.822416</td>\n",
              "      <td>67.313473</td>\n",
              "      <td>120.944829</td>\n",
              "      <td>76.730629</td>\n",
              "    </tr>\n",
              "  </tbody>\n",
              "</table>\n",
              "</div>"
            ],
            "text/plain": [
              "          Col1       Col2       Col3       Col4        Col5       Col6\n",
              "308  45.252792   8.693157  41.583126  36.559635  118.545842   0.214750\n",
              "274  43.191915   9.976664  28.938149  33.215251  123.467400   1.741018\n",
              "122  80.074914  48.069531  52.403439  32.005383  110.709912  67.727316\n",
              "269  37.140150  16.481240  24.000000  20.658910  125.014361   7.366425\n",
              "208  87.679087  20.365613  93.822416  67.313473  120.944829  76.730629"
            ]
          },
          "metadata": {
            "tags": []
          },
          "execution_count": 32
        }
      ]
    },
    {
      "metadata": {
        "id": "YEq2WbgEyL5I",
        "colab_type": "code",
        "colab": {}
      },
      "cell_type": "code",
      "source": [
        "#Defininfo o classificador que neste casso é um perceptron multilayer\n",
        "clf = MLPClassifier(hidden_layer_sizes=(100,100,100), max_iter=500, alpha=0.0001,\n",
        "                     solver='sgd', verbose=10,  random_state=21,tol=0.000000001)"
      ],
      "execution_count": 0,
      "outputs": []
    },
    {
      "metadata": {
        "id": "3rUqVyfZyWep",
        "colab_type": "code",
        "colab": {
          "base_uri": "https://localhost:8080/",
          "height": 544
        },
        "outputId": "661c4f6b-af1b-47d3-89e8-97ce9615be99"
      },
      "cell_type": "code",
      "source": [
        "#Treinando\n",
        "clf.fit(x_train, y_train)"
      ],
      "execution_count": 34,
      "outputs": [
        {
          "output_type": "stream",
          "text": [
            "Iteration 1, loss = 4.26874505\n",
            "Iteration 2, loss = 7.21713939\n",
            "Iteration 3, loss = 1.55562179\n",
            "Iteration 4, loss = 0.94416556\n",
            "Iteration 5, loss = 1.50851327\n",
            "Iteration 6, loss = 0.50784081\n",
            "Iteration 7, loss = 0.39918410\n",
            "Iteration 8, loss = 0.37867398\n",
            "Iteration 9, loss = 0.37472479\n",
            "Iteration 10, loss = 0.34567928\n",
            "Iteration 11, loss = 0.34293793\n",
            "Iteration 12, loss = 0.33180054\n",
            "Iteration 13, loss = 0.33138624\n",
            "Iteration 14, loss = 0.32280653\n",
            "Iteration 15, loss = 0.32238711\n",
            "Iteration 16, loss = 0.33164385\n",
            "Iteration 17, loss = 0.31229600\n",
            "Iteration 18, loss = 0.30823387\n",
            "Iteration 19, loss = 0.32317560\n",
            "Iteration 20, loss = 0.30697614\n",
            "Iteration 21, loss = 0.30901736\n",
            "Iteration 22, loss = 0.35327698\n",
            "Iteration 23, loss = 0.31835192\n",
            "Training loss did not improve more than tol=0.000000 for two consecutive epochs. Stopping.\n"
          ],
          "name": "stdout"
        },
        {
          "output_type": "execute_result",
          "data": {
            "text/plain": [
              "MLPClassifier(activation='relu', alpha=0.0001, batch_size='auto', beta_1=0.9,\n",
              "       beta_2=0.999, early_stopping=False, epsilon=1e-08,\n",
              "       hidden_layer_sizes=(100, 100, 100), learning_rate='constant',\n",
              "       learning_rate_init=0.001, max_iter=500, momentum=0.9,\n",
              "       nesterovs_momentum=True, power_t=0.5, random_state=21, shuffle=True,\n",
              "       solver='sgd', tol=1e-09, validation_fraction=0.1, verbose=10,\n",
              "       warm_start=False)"
            ]
          },
          "metadata": {
            "tags": []
          },
          "execution_count": 34
        }
      ]
    },
    {
      "metadata": {
        "id": "Q-MvJZL7yeSC",
        "colab_type": "code",
        "colab": {}
      },
      "cell_type": "code",
      "source": [
        "#classificando\n",
        "y_pred = clf.predict(x_test)"
      ],
      "execution_count": 0,
      "outputs": []
    },
    {
      "metadata": {
        "id": "OAnW_ag7yiBg",
        "colab_type": "code",
        "colab": {
          "base_uri": "https://localhost:8080/",
          "height": 272
        },
        "outputId": "4b03340e-2bb4-46cd-d869-219267cd82a8"
      },
      "cell_type": "code",
      "source": [
        "y_pred"
      ],
      "execution_count": 37,
      "outputs": [
        {
          "output_type": "execute_result",
          "data": {
            "text/plain": [
              "array(['Abnormal', 'Abnormal', 'Abnormal', 'Normal', 'Abnormal', 'Normal',\n",
              "       'Normal', 'Normal', 'Abnormal', 'Abnormal', 'Abnormal', 'Abnormal',\n",
              "       'Abnormal', 'Abnormal', 'Abnormal', 'Abnormal', 'Abnormal',\n",
              "       'Abnormal', 'Abnormal', 'Abnormal', 'Abnormal', 'Abnormal',\n",
              "       'Abnormal', 'Normal', 'Abnormal', 'Normal', 'Abnormal', 'Abnormal',\n",
              "       'Abnormal', 'Abnormal', 'Normal', 'Abnormal', 'Abnormal',\n",
              "       'Abnormal', 'Abnormal', 'Abnormal', 'Normal', 'Normal', 'Normal',\n",
              "       'Abnormal', 'Abnormal', 'Abnormal', 'Abnormal', 'Normal',\n",
              "       'Abnormal', 'Normal', 'Abnormal', 'Abnormal', 'Normal', 'Abnormal',\n",
              "       'Normal', 'Abnormal', 'Abnormal', 'Abnormal', 'Normal', 'Abnormal',\n",
              "       'Normal', 'Abnormal', 'Abnormal', 'Abnormal', 'Abnormal',\n",
              "       'Abnormal', 'Normal', 'Abnormal', 'Normal', 'Abnormal', 'Normal',\n",
              "       'Normal', 'Abnormal', 'Abnormal', 'Abnormal', 'Abnormal',\n",
              "       'Abnormal', 'Abnormal', 'Normal', 'Normal', 'Normal', 'Abnormal'],\n",
              "      dtype='<U8')"
            ]
          },
          "metadata": {
            "tags": []
          },
          "execution_count": 37
        }
      ]
    },
    {
      "metadata": {
        "id": "0794hYviynqH",
        "colab_type": "code",
        "colab": {
          "base_uri": "https://localhost:8080/",
          "height": 34
        },
        "outputId": "596e9516-d1f6-4178-bf8c-7b7c1bea322e"
      },
      "cell_type": "code",
      "source": [
        "#Calculando a Acuracia do classificador\n",
        "accuracy_score(y_test, y_pred)"
      ],
      "execution_count": 38,
      "outputs": [
        {
          "output_type": "execute_result",
          "data": {
            "text/plain": [
              "0.8461538461538461"
            ]
          },
          "metadata": {
            "tags": []
          },
          "execution_count": 38
        }
      ]
    },
    {
      "metadata": {
        "id": "z3fzhE07ysGw",
        "colab_type": "code",
        "colab": {
          "base_uri": "https://localhost:8080/",
          "height": 51
        },
        "outputId": "7372c172-bff1-4495-b0d9-0f84aac4b5a3"
      },
      "cell_type": "code",
      "source": [
        "#calculando a matriz de confusão\n",
        "cm = confusion_matrix(y_test, y_pred)\n",
        "cm"
      ],
      "execution_count": 39,
      "outputs": [
        {
          "output_type": "execute_result",
          "data": {
            "text/plain": [
              "array([[48,  5],\n",
              "       [ 7, 18]])"
            ]
          },
          "metadata": {
            "tags": []
          },
          "execution_count": 39
        }
      ]
    },
    {
      "metadata": {
        "id": "bchTPO6C1Jns",
        "colab_type": "code",
        "colab": {}
      },
      "cell_type": "code",
      "source": [
        "def transform(y=y_test):\n",
        "  y2 = []\n",
        "  for i in y:\n",
        "    if(i=='Abnormal'):\n",
        "      y2.append(0)\n",
        "    else:\n",
        "       y2.append(1)\n",
        "  return y2"
      ],
      "execution_count": 0,
      "outputs": []
    },
    {
      "metadata": {
        "id": "VzE9RXWd3oF2",
        "colab_type": "code",
        "colab": {}
      },
      "cell_type": "code",
      "source": [
        "tn,fp,fn,tp = confusion_matrix(y_test, y_pred).ravel()"
      ],
      "execution_count": 0,
      "outputs": []
    },
    {
      "metadata": {
        "id": "X-fxeCbh55YI",
        "colab_type": "code",
        "colab": {
          "base_uri": "https://localhost:8080/",
          "height": 34
        },
        "outputId": "f90d6cf4-56de-49be-ca89-a974f19e21bd"
      },
      "cell_type": "code",
      "source": [
        "print(tn,fp,fn,tp)"
      ],
      "execution_count": 58,
      "outputs": [
        {
          "output_type": "stream",
          "text": [
            "48 5 7 18\n"
          ],
          "name": "stdout"
        }
      ]
    },
    {
      "metadata": {
        "id": "kSJPXSpL6Og3",
        "colab_type": "code",
        "colab": {
          "base_uri": "https://localhost:8080/",
          "height": 34
        },
        "outputId": "d448c771-3b17-4828-ca08-db1cd90b2a16"
      },
      "cell_type": "code",
      "source": [
        "#Calculando a precisão\n",
        "precision = tp/(fp+tp)\n",
        "precision"
      ],
      "execution_count": 61,
      "outputs": [
        {
          "output_type": "execute_result",
          "data": {
            "text/plain": [
              "0.782608695652174"
            ]
          },
          "metadata": {
            "tags": []
          },
          "execution_count": 61
        }
      ]
    },
    {
      "metadata": {
        "id": "fsZaghIq66gA",
        "colab_type": "code",
        "colab": {
          "base_uri": "https://localhost:8080/",
          "height": 34
        },
        "outputId": "daba7b73-b6b0-4e9c-fea9-ab3159ad60e3"
      },
      "cell_type": "code",
      "source": [
        "#Calculando o revocação\n",
        "recall = tp/(tp+fn)\n",
        "recall"
      ],
      "execution_count": 62,
      "outputs": [
        {
          "output_type": "execute_result",
          "data": {
            "text/plain": [
              "0.72"
            ]
          },
          "metadata": {
            "tags": []
          },
          "execution_count": 62
        }
      ]
    },
    {
      "metadata": {
        "id": "EwbYF2yg8jV5",
        "colab_type": "code",
        "colab": {
          "base_uri": "https://localhost:8080/",
          "height": 34
        },
        "outputId": "613342af-d66f-4215-d2a8-2d65686ea944"
      },
      "cell_type": "code",
      "source": [
        "#Calculando a medida F1\n",
        "f1_score = 2*(precision*recall)/(precision+recall)\n",
        "f1_score"
      ],
      "execution_count": 71,
      "outputs": [
        {
          "output_type": "execute_result",
          "data": {
            "text/plain": [
              "0.7499999999999999"
            ]
          },
          "metadata": {
            "tags": []
          },
          "execution_count": 71
        }
      ]
    },
    {
      "metadata": {
        "id": "ANaQXZlR858x",
        "colab_type": "code",
        "colab": {}
      },
      "cell_type": "code",
      "source": [
        "#Segundo as medididas calculadas acima, o classificador pode ser considerado como um bom classificador."
      ],
      "execution_count": 0,
      "outputs": []
    },
    {
      "metadata": {
        "id": "pKZDedsDGYIt",
        "colab_type": "code",
        "colab": {}
      },
      "cell_type": "code",
      "source": [
        "#Questão 2"
      ],
      "execution_count": 0,
      "outputs": []
    },
    {
      "metadata": {
        "id": "Lu1Uf_8I-gkB",
        "colab_type": "code",
        "colab": {}
      },
      "cell_type": "code",
      "source": [
        "#Gerando o conjunto de amostra representando a probabilidade de uma instancia pertencer a sua classe\n",
        "np.random.seed(13676)\n",
        "sample = np.random.rand(len(y_test))"
      ],
      "execution_count": 0,
      "outputs": []
    },
    {
      "metadata": {
        "id": "SWK5Oo9A-6PL",
        "colab_type": "code",
        "colab": {
          "base_uri": "https://localhost:8080/",
          "height": 289
        },
        "outputId": "2dabe100-d0c6-4327-cc18-38482351097a"
      },
      "cell_type": "code",
      "source": [
        "sample1"
      ],
      "execution_count": 90,
      "outputs": [
        {
          "output_type": "execute_result",
          "data": {
            "text/plain": [
              "array([0.73657876, 0.7496531 , 0.07277546, 0.66379287, 0.89449083,\n",
              "       0.20629619, 0.37332538, 0.17433136, 0.024333  , 0.34485668,\n",
              "       0.44016768, 0.6833081 , 0.45275196, 0.56350611, 0.49291096,\n",
              "       0.09797615, 0.9307716 , 0.80298324, 0.27812437, 0.21275244,\n",
              "       0.72833248, 0.11477279, 0.42695514, 0.70647966, 0.2155441 ,\n",
              "       0.36370933, 0.69614831, 0.91457038, 0.0809278 , 0.37582407,\n",
              "       0.04354498, 0.2251666 , 0.39209596, 0.84234842, 0.6788601 ,\n",
              "       0.71204863, 0.33517344, 0.14387642, 0.56145658, 0.06077426,\n",
              "       0.8645293 , 0.77929373, 0.11994842, 0.18852244, 0.68934714,\n",
              "       0.27869524, 0.7586484 , 0.94184215, 0.47257901, 0.14147615,\n",
              "       0.30060482, 0.85902016, 0.44236352, 0.83640517, 0.81789566,\n",
              "       0.21461633, 0.37420719, 0.14626285, 0.39069042, 0.09253967,\n",
              "       0.12271551, 0.60300974, 0.06011976, 0.34567475, 0.13200836,\n",
              "       0.07700667, 0.32239856, 0.99393487, 0.84401533, 0.9154811 ,\n",
              "       0.45659168, 0.78431755, 0.49210541, 0.50833541, 0.71624265,\n",
              "       0.50173821, 0.30114819, 0.61085005])"
            ]
          },
          "metadata": {
            "tags": []
          },
          "execution_count": 90
        }
      ]
    },
    {
      "metadata": {
        "id": "Br_PmAFh-_UC",
        "colab_type": "code",
        "colab": {
          "base_uri": "https://localhost:8080/",
          "height": 294
        },
        "outputId": "0550b780-cc82-4d0a-cd00-16a6826a8559"
      },
      "cell_type": "code",
      "source": [
        "#Gerando a curva ROC e calculando a AUC\n",
        "from sklearn.metrics import roc_curve, auc\n",
        "y_trans = transform(y_test)\n",
        "fpr, tpr, thresholds = roc_curve(y_trans, sample1)\n",
        "roc_auc = auc(fpr, tpr)\n",
        "\n",
        "plt.figure()\n",
        "plt.plot(fpr, tpr, color='darkorange', lw=1, label='ROC curve (area = %0.2f)' % roc_auc)\n",
        "plt.plot([0, 1], [0, 1], color='navy', lw=2, linestyle='--')\n",
        "plt.xlim([0.0, 1.0])\n",
        "plt.ylim([0.0, 1.05])\n",
        "plt.xlabel('False Positive Rate')\n",
        "plt.ylabel('True Positive Rate')\n",
        "plt.title('Receiver operating characteristic')\n",
        "plt.legend(loc=\"lower right\")\n",
        "plt.show()"
      ],
      "execution_count": 91,
      "outputs": [
        {
          "output_type": "display_data",
          "data": {
            "image/png": "[encoded data removed]",
            "text/plain": [
              "<matplotlib.figure.Figure at 0x7fc1df50bba8>"
            ]
          },
          "metadata": {
            "tags": []
          }
        }
      ]
    },
    {
      "metadata": {
        "id": "aCJnlP1BGxFV",
        "colab_type": "code",
        "colab": {}
      },
      "cell_type": "code",
      "source": [
        ""
      ],
      "execution_count": 0,
      "outputs": []
    }
  ]
}